{
 "cells": [
  {
   "cell_type": "code",
   "execution_count": 2,
   "metadata": {},
   "outputs": [],
   "source": [
    "import random \n",
    "from tabulate import tabulate\n",
    "from datetime import datetime, timedelta"
   ]
  },
  {
   "cell_type": "code",
   "execution_count": 3,
   "metadata": {},
   "outputs": [],
   "source": [
    "def enter_free_hours():\n",
    "    print(\"enter the time you want to schedule on(in 24 hrs)\")\n",
    "    free_hrs = []\n",
    "    while True:\n",
    "        st = input(\"enter start time HH:MM: \")\n",
    "        en = input(\"enter end time HH:MM: \")\n",
    "        set = (st,en)\n",
    "        free_hrs.append(set)\n",
    "        c1 = input(\"log again?y/n: \")\n",
    "        if c1 == 'y' or c1 == 'Y':\n",
    "            pass\n",
    "        else :\n",
    "            break\n",
    "\n",
    "    return free_hrs"
   ]
  },
  {
   "cell_type": "code",
   "execution_count": 4,
   "metadata": {},
   "outputs": [
    {
     "name": "stdout",
     "output_type": "stream",
     "text": [
      "[('5:00', '6:00'), ('18:00', '19:00')]\n"
     ]
    }
   ],
   "source": [
    "#free_hrs = enter_free_hours()#\n",
    "free_hrs = [('5:00','7:00'),('18:00','20:00')]\n",
    "yaxis=[]\n",
    "for i in free_hrs:#('18:00','21:00')\n",
    "     for j in i:#'18:00'\n",
    "          temp = (j.split(':'))[0]\n",
    "          if temp<(i[1].split(':'))[0]:\n",
    "               hr = (j.split(':'))[0]\n",
    "               hr = int(hr) + 1\n",
    "               temp = hr\n",
    "               hr = str(hr)\n",
    "               min_ = (j.split(':'))[1]\n",
    "\n",
    "               yaxis.append((j,(hr + \":\" + min_)))\n",
    "print(yaxis)\n",
    "yaxis = [('5:00', '6:00'), ('6:00', '7:00'), ('18:00', '19:00'), ('19:00', '20:00')]\n"
   ]
  },
  {
   "cell_type": "code",
   "execution_count": 5,
   "metadata": {},
   "outputs": [
    {
     "name": "stdout",
     "output_type": "stream",
     "text": [
      "Enter the days of the week you want (separate multiple days with a comma):\n"
     ]
    }
   ],
   "source": [
    "\n",
    "\n",
    "aweek = [\"Monday\", \"Tuesday\", \"Wednesday\", \"Thursday\", \"Friday\", \"Saturday\", \"Sunday\"]\n",
    "myweek = []\n",
    "print(\"Enter the days of the week you want (separate multiple days with a comma):\")\n",
    "user_input = input().strip().split(\",\")\n",
    "for day in user_input:\n",
    "    day = day.strip().capitalize()\n",
    "    if day in aweek:\n",
    "        myweek.append(day)\n",
    "    else:\n",
    "        pass\n",
    "\n",
    "#all input stuff\n",
    "all_stuff = []#[(football,4),(math,8),(AI_project,6),(movie,6),(internship,12)]\n",
    "\n",
    "while True:\n",
    "    sub = input(\"name of the subject: \")\n",
    "    all_stuff.append((sub))\n",
    "\n",
    "    c2 = input(\"done(y/n): \")\n",
    "    if c2 == 'y' or c2 == 'Y':\n",
    "        break\n",
    "    else :\n",
    "        pass\n"
   ]
  },
  {
   "cell_type": "code",
   "execution_count": 6,
   "metadata": {},
   "outputs": [
    {
     "name": "stdout",
     "output_type": "stream",
     "text": [
      "[[('football', '5:00', 'Wednesday'), ('math', '5:00', 'Tuesday'), ('AI_project', '19:00', 'Monday'), ('movie', '18:00', 'Friday'), ('internship', '19:00', 'Wednesday')], [('football', '5:00', 'Friday'), ('math', '6:00', 'Monday'), ('AI_project', '18:00', 'Tuesday'), ('movie', '6:00', 'Monday'), ('internship', '19:00', 'Friday')], [('football', '19:00', 'Friday'), ('math', '18:00', 'Monday'), ('AI_project', '5:00', 'Friday'), ('movie', '18:00', 'Monday'), ('internship', '19:00', 'Thursday')], [('football', '19:00', 'Friday'), ('math', '5:00', 'Monday'), ('AI_project', '18:00', 'Friday'), ('movie', '6:00', 'Friday'), ('internship', '18:00', 'Monday')], [('football', '18:00', 'Tuesday'), ('math', '5:00', 'Tuesday'), ('AI_project', '6:00', 'Friday'), ('movie', '5:00', 'Wednesday'), ('internship', '6:00', 'Thursday')], [('football', '18:00', 'Friday'), ('math', '18:00', 'Wednesday'), ('AI_project', '5:00', 'Wednesday'), ('movie', '18:00', 'Tuesday'), ('internship', '19:00', 'Tuesday')], [('football', '6:00', 'Wednesday'), ('math', '18:00', 'Thursday'), ('AI_project', '5:00', 'Friday'), ('movie', '5:00', 'Wednesday'), ('internship', '6:00', 'Tuesday')]]\n"
     ]
    }
   ],
   "source": [
    "#generate random schedule\n",
    "yaxis = [('5:00', '6:00'), ('6:00', '7:00'), ('18:00', '19:00'), ('19:00', '20:00')]\n",
    "times = ['5:00','6:00','18:00','19:00']\n",
    "xaxis = [\"Monday\", \"Tuesday\", \"Wednesday\", \"Thursday\", \"Friday\"]\n",
    "all_stuff = ['football','math','AI_project','movie','internship']\n",
    "tot_available_hrs = len(yaxis) * len(xaxis)\n",
    "\n",
    "#chromosome = [math,internship,movie,AI_project]\n",
    "def generate_random_schedule(subjects, time_slots, days):   \n",
    "    schedule = []\n",
    "    for subject in subjects:\n",
    "        time = random.choice(time_slots)\n",
    "        day = random.choice(days)\n",
    "        schedule.append((subject, time, day))\n",
    "    \n",
    "    return schedule\n",
    "    \n",
    "def create_pop(subj,tim,day_):\n",
    "    population_ = []\n",
    "    #let\n",
    "    population_size = 7\n",
    "    for _ in range(population_size):\n",
    "        schedule = generate_random_schedule(subj, tim, day_)\n",
    "        population_.append(schedule)\n",
    "    \n",
    "    return population_\n",
    "\n",
    "main_population = create_pop(all_stuff,times,xaxis)\n",
    "print(main_population)\n"
   ]
  },
  {
   "cell_type": "code",
   "execution_count": 7,
   "metadata": {},
   "outputs": [
    {
     "name": "stdout",
     "output_type": "stream",
     "text": [
      "[[('football', '5:00', 'Wednesday'), ('math', '5:00', 'Tuesday'), ('AI_project', '19:00', 'Monday'), ('movie', '18:00', 'Friday'), ('internship', '19:00', 'Wednesday')], [('football', '5:00', 'Friday'), ('math', '6:00', 'Monday'), ('AI_project', '18:00', 'Tuesday'), ('movie', '6:00', 'Monday'), ('internship', '19:00', 'Friday')], [('football', '19:00', 'Friday'), ('math', '18:00', 'Monday'), ('AI_project', '5:00', 'Friday'), ('movie', '18:00', 'Monday'), ('internship', '19:00', 'Thursday')], [('football', '19:00', 'Friday'), ('math', '5:00', 'Monday'), ('AI_project', '18:00', 'Friday'), ('movie', '6:00', 'Friday'), ('internship', '18:00', 'Monday')], [('football', '18:00', 'Tuesday'), ('math', '5:00', 'Tuesday'), ('AI_project', '6:00', 'Friday'), ('movie', '5:00', 'Wednesday'), ('internship', '6:00', 'Thursday')], [('football', '18:00', 'Friday'), ('math', '18:00', 'Wednesday'), ('AI_project', '5:00', 'Wednesday'), ('movie', '18:00', 'Tuesday'), ('internship', '19:00', 'Tuesday')], [('football', '6:00', 'Wednesday'), ('math', '18:00', 'Thursday'), ('AI_project', '5:00', 'Friday'), ('movie', '5:00', 'Wednesday'), ('internship', '6:00', 'Tuesday')]]\n"
     ]
    }
   ],
   "source": [
    "def fitness_function(chromosome):\n",
    "  fitness = 1.0\n",
    "  fb = 0\n",
    "  mv = 0\n",
    "  mt = 0\n",
    "  #watch movie at late times\n",
    "  #read at early times \n",
    "  for g in chromosome:\n",
    "    if 'football' in g:\n",
    "      fb+=1\n",
    "    elif 'movie' in g:\n",
    "      mv+=1\n",
    "    elif 'math' in g:\n",
    "      mt += 1\n",
    "\n",
    "  if fb>3:\n",
    "    fitness -=0.15\n",
    "  if mv>3:\n",
    "    fitness-=0.15\n",
    "  if mt>3:\n",
    "    fitness+=0.15\n",
    "\n",
    "  return fitness\n",
    "print(main_population)\n"
   ]
  },
  {
   "cell_type": "code",
   "execution_count": 10,
   "metadata": {},
   "outputs": [
    {
     "ename": "IndexError",
     "evalue": "list index out of range",
     "output_type": "error",
     "traceback": [
      "\u001b[1;31m---------------------------------------------------------------------------\u001b[0m",
      "\u001b[1;31mIndexError\u001b[0m                                Traceback (most recent call last)",
      "\u001b[1;32mc:\\Users\\Admin\\AppData\\Local\\Programs\\Python\\AI_4sem_proj\\main.ipynb Cell 7'\u001b[0m in \u001b[0;36m<cell line: 36>\u001b[1;34m()\u001b[0m\n\u001b[0;32m     <a href='vscode-notebook-cell:/c%3A/Users/Admin/AppData/Local/Programs/Python/AI_4sem_proj/main.ipynb#ch0000006?line=32'>33</a>\u001b[0m mutation_rate \u001b[39m=\u001b[39m \u001b[39m0.5\u001b[39m\n\u001b[0;32m     <a href='vscode-notebook-cell:/c%3A/Users/Admin/AppData/Local/Programs/Python/AI_4sem_proj/main.ipynb#ch0000006?line=34'>35</a>\u001b[0m offspring1, offspring2 \u001b[39m=\u001b[39m perform_crossover(parent1, parent2)\n\u001b[1;32m---> <a href='vscode-notebook-cell:/c%3A/Users/Admin/AppData/Local/Programs/Python/AI_4sem_proj/main.ipynb#ch0000006?line=35'>36</a>\u001b[0m mutated_offspring1 \u001b[39m=\u001b[39m perform_mutation(offspring1, mutation_rate)\n\u001b[0;32m     <a href='vscode-notebook-cell:/c%3A/Users/Admin/AppData/Local/Programs/Python/AI_4sem_proj/main.ipynb#ch0000006?line=36'>37</a>\u001b[0m mutated_offspring2 \u001b[39m=\u001b[39m perform_mutation(offspring2, mutation_rate)\n\u001b[0;32m     <a href='vscode-notebook-cell:/c%3A/Users/Admin/AppData/Local/Programs/Python/AI_4sem_proj/main.ipynb#ch0000006?line=38'>39</a>\u001b[0m \u001b[39mprint\u001b[39m(\u001b[39m\"\u001b[39m\u001b[39mMutated Offspring 1:\u001b[39m\u001b[39m\"\u001b[39m, mutated_offspring1)\n",
      "\u001b[1;32mc:\\Users\\Admin\\AppData\\Local\\Programs\\Python\\AI_4sem_proj\\main.ipynb Cell 7'\u001b[0m in \u001b[0;36mperform_mutation\u001b[1;34m(chromosome, mutation_rate)\u001b[0m\n\u001b[0;32m     <a href='vscode-notebook-cell:/c%3A/Users/Admin/AppData/Local/Programs/Python/AI_4sem_proj/main.ipynb#ch0000006?line=18'>19</a>\u001b[0m \u001b[39mfor\u001b[39;00m gene \u001b[39min\u001b[39;00m chromosome:\n\u001b[0;32m     <a href='vscode-notebook-cell:/c%3A/Users/Admin/AppData/Local/Programs/Python/AI_4sem_proj/main.ipynb#ch0000006?line=19'>20</a>\u001b[0m     \u001b[39mif\u001b[39;00m random\u001b[39m.\u001b[39mrandom() \u001b[39m<\u001b[39m mutation_rate:\n\u001b[0;32m     <a href='vscode-notebook-cell:/c%3A/Users/Admin/AppData/Local/Programs/Python/AI_4sem_proj/main.ipynb#ch0000006?line=20'>21</a>\u001b[0m         \u001b[39m# Perform mutation by randomly selecting a new gene value\u001b[39;00m\n\u001b[1;32m---> <a href='vscode-notebook-cell:/c%3A/Users/Admin/AppData/Local/Programs/Python/AI_4sem_proj/main.ipynb#ch0000006?line=21'>22</a>\u001b[0m         mutated_gene \u001b[39m=\u001b[39m generate_random_schedule(sub, times, myweek) \u001b[39m#generate random gene\u001b[39;00m\n\u001b[0;32m     <a href='vscode-notebook-cell:/c%3A/Users/Admin/AppData/Local/Programs/Python/AI_4sem_proj/main.ipynb#ch0000006?line=22'>23</a>\u001b[0m           \u001b[39m# Replace with your own function to generate a random gene\u001b[39;00m\n\u001b[0;32m     <a href='vscode-notebook-cell:/c%3A/Users/Admin/AppData/Local/Programs/Python/AI_4sem_proj/main.ipynb#ch0000006?line=23'>24</a>\u001b[0m         mutated_chromosome\u001b[39m.\u001b[39mappend(mutated_gene)\n",
      "\u001b[1;32mc:\\Users\\Admin\\AppData\\Local\\Programs\\Python\\AI_4sem_proj\\main.ipynb Cell 5'\u001b[0m in \u001b[0;36mgenerate_random_schedule\u001b[1;34m(subjects, time_slots, days)\u001b[0m\n\u001b[0;32m     <a href='vscode-notebook-cell:/c%3A/Users/Admin/AppData/Local/Programs/Python/AI_4sem_proj/main.ipynb#ch0000004?line=10'>11</a>\u001b[0m \u001b[39mfor\u001b[39;00m subject \u001b[39min\u001b[39;00m subjects:\n\u001b[0;32m     <a href='vscode-notebook-cell:/c%3A/Users/Admin/AppData/Local/Programs/Python/AI_4sem_proj/main.ipynb#ch0000004?line=11'>12</a>\u001b[0m     time \u001b[39m=\u001b[39m random\u001b[39m.\u001b[39mchoice(time_slots)\n\u001b[1;32m---> <a href='vscode-notebook-cell:/c%3A/Users/Admin/AppData/Local/Programs/Python/AI_4sem_proj/main.ipynb#ch0000004?line=12'>13</a>\u001b[0m     day \u001b[39m=\u001b[39m random\u001b[39m.\u001b[39;49mchoice(days)\n\u001b[0;32m     <a href='vscode-notebook-cell:/c%3A/Users/Admin/AppData/Local/Programs/Python/AI_4sem_proj/main.ipynb#ch0000004?line=13'>14</a>\u001b[0m     schedule\u001b[39m.\u001b[39mappend((subject, time, day))\n\u001b[0;32m     <a href='vscode-notebook-cell:/c%3A/Users/Admin/AppData/Local/Programs/Python/AI_4sem_proj/main.ipynb#ch0000004?line=15'>16</a>\u001b[0m \u001b[39mreturn\u001b[39;00m schedule\n",
      "File \u001b[1;32mc:\\Users\\Admin\\AppData\\Local\\Programs\\Python\\Python310\\lib\\random.py:378\u001b[0m, in \u001b[0;36mRandom.choice\u001b[1;34m(self, seq)\u001b[0m\n\u001b[0;32m    <a href='file:///c%3A/Users/Admin/AppData/Local/Programs/Python/Python310/lib/random.py?line=375'>376</a>\u001b[0m \u001b[39m\u001b[39m\u001b[39m\"\"\"Choose a random element from a non-empty sequence.\"\"\"\u001b[39;00m\n\u001b[0;32m    <a href='file:///c%3A/Users/Admin/AppData/Local/Programs/Python/Python310/lib/random.py?line=376'>377</a>\u001b[0m \u001b[39m# raises IndexError if seq is empty\u001b[39;00m\n\u001b[1;32m--> <a href='file:///c%3A/Users/Admin/AppData/Local/Programs/Python/Python310/lib/random.py?line=377'>378</a>\u001b[0m \u001b[39mreturn\u001b[39;00m seq[\u001b[39mself\u001b[39;49m\u001b[39m.\u001b[39;49m_randbelow(\u001b[39mlen\u001b[39;49m(seq))]\n",
      "\u001b[1;31mIndexError\u001b[0m: list index out of range"
     ]
    }
   ],
   "source": [
    "import random\n",
    "#if fitness decreases perform crossover\n",
    "\n",
    "def perform_crossover(parent1, parent2):\n",
    "    # performing single-point crossover\n",
    "    # Choose a random crossover point\n",
    "    crossover_point = random.randint(1, len(parent1) - 1)\n",
    "    \n",
    "    # Create offspring by exchanging genetic information\n",
    "    offspring1 = parent1[:crossover_point] + parent2[crossover_point:]\n",
    "    offspring2 = parent2[:crossover_point] + parent1[crossover_point:]\n",
    "    \n",
    "    return offspring1, offspring2\n",
    "\n",
    "def perform_mutation(chromosome, mutation_rate):\n",
    "    # Perform mutation on a chromosome by randomly modifying genes\n",
    "    mutated_chromosome = []\n",
    "    \n",
    "    for gene in chromosome:\n",
    "        if random.random() < mutation_rate:\n",
    "            # Perform mutation by randomly selecting a new gene value\n",
    "            mutated_gene = generate_random_schedule(sub, times, myweek) #generate random gene\n",
    "              # Replace with your own function to generate a random gene\n",
    "            mutated_chromosome.append(mutated_gene)\n",
    "        else:\n",
    "            mutated_chromosome.append(gene)\n",
    "    \n",
    "    return mutated_chromosome\n",
    "\n",
    "# Example usage:\n",
    "parent1 = [('Math', '9:00 AM', 'Monday'), ('English', '10:30 AM', 'Monday'), ('Science', '9:00 AM', 'Tuesday')]\n",
    "parent2 = [('History', '1:00 PM', 'Wednesday'), ('Art', '3:30 PM', 'Friday')]\n",
    "mutation_rate = 0.5\n",
    "\n",
    "offspring1, offspring2 = perform_crossover(parent1, parent2)\n",
    "mutated_offspring1 = perform_mutation(offspring1, mutation_rate)\n",
    "mutated_offspring2 = perform_mutation(offspring2, mutation_rate)\n",
    "\n",
    "print(\"Mutated Offspring 1:\", mutated_offspring1)\n",
    "print(\"Mutated Offspring 2:\", mutated_offspring2)"
   ]
  },
  {
   "cell_type": "code",
   "execution_count": null,
   "metadata": {},
   "outputs": [],
   "source": []
  }
 ],
 "metadata": {
  "interpreter": {
   "hash": "a42ccb73e7d9bfdf27e036f1d2b8b681e55fc0743cc5586bc2474d4a60f4b886"
  },
  "kernelspec": {
   "display_name": "Python 3.10.1 64-bit",
   "language": "python",
   "name": "python3"
  },
  "language_info": {
   "codemirror_mode": {
    "name": "ipython",
    "version": 3
   },
   "file_extension": ".py",
   "mimetype": "text/x-python",
   "name": "python",
   "nbconvert_exporter": "python",
   "pygments_lexer": "ipython3",
   "version": "3.10.1"
  },
  "orig_nbformat": 4
 },
 "nbformat": 4,
 "nbformat_minor": 2
}
