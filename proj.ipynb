{
 "cells": [
  {
   "cell_type": "code",
   "execution_count": 1,
   "metadata": {},
   "outputs": [],
   "source": [
    "import random \n",
    "from tabulate import tabulate\n",
    "from datetime import datetime, timedelta"
   ]
  },
  {
   "cell_type": "code",
   "execution_count": 11,
   "metadata": {},
   "outputs": [
    {
     "name": "stdout",
     "output_type": "stream",
     "text": [
      "[('football', '5:00', 'Monday'), ('AI_project', '18:00', 'Tuesday'), ('internship', '19:00', 'Wednesday'), ('internship', '19:00', 'Thursday'), ('math', '5:00', 'Friday'), ('internship', '18:00', 'Saturday'), ('internship', '19:00', 'Sunday')]\n",
      "[('internship', '6:00', 'Monday'), ('AI_project', '5:00', 'Tuesday'), ('read a book', '19:00', 'Wednesday'), ('math', '19:00', 'Thursday'), ('internship', '6:00', 'Friday'), ('read a book', '6:00', 'Saturday'), ('math', '5:00', 'Sunday')]\n",
      "[('football', '6:00', 'Monday'), ('read a book', '19:00', 'Tuesday'), ('internship', '19:00', 'Wednesday'), ('internship', '19:00', 'Thursday'), ('AI_project', '6:00', 'Friday'), ('internship', '6:00', 'Saturday'), ('AI_project', '18:00', 'Sunday')]\n",
      "[('internship', '18:00', 'Monday'), ('football', '6:00', 'Tuesday'), ('movie', '19:00', 'Wednesday'), ('internship', '19:00', 'Thursday'), ('math', '19:00', 'Friday'), ('math', '18:00', 'Saturday'), ('internship', '19:00', 'Sunday')]\n",
      "[('football', '6:00', 'Monday'), ('internship', '5:00', 'Tuesday'), ('internship', '6:00', 'Wednesday'), ('read a book', '5:00', 'Thursday'), ('AI_project', '19:00', 'Friday'), ('read a book', '5:00', 'Saturday'), ('internship', '5:00', 'Sunday')]\n",
      "[('AI_project', '19:00', 'Monday'), ('AI_project', '18:00', 'Tuesday'), ('math', '19:00', 'Wednesday'), ('math', '5:00', 'Thursday'), ('internship', '18:00', 'Friday'), ('read a book', '18:00', 'Saturday'), ('movie', '18:00', 'Sunday')]\n",
      "[('movie', '18:00', 'Monday'), ('read a book', '19:00', 'Tuesday'), ('movie', '5:00', 'Wednesday'), ('AI_project', '5:00', 'Thursday'), ('movie', '5:00', 'Friday'), ('football', '19:00', 'Saturday'), ('internship', '19:00', 'Sunday')]\n"
     ]
    }
   ],
   "source": [
    "week = [\"Monday\", \"Tuesday\", \"Wednesday\", \"Thursday\", \"Friday\", \"Saturday\", \"Sunday\"]\n",
    "time_slots = [('5:00', '6:00'), ('6:00', '7:00'), ('18:00', '19:00'), ('19:00', '20:00')]\n",
    "time_ = ['5:00','6:00','18:00','19:00']\n",
    "subjects = ['football','math','AI_project','movie','internship','read a book']\n",
    "\n",
    "def generate_random_schedule(subjects, time_slots, days):   \n",
    "    schedule = []\n",
    "    for day in days:\n",
    "        time = random.choice(time_slots)\n",
    "        subject = random.choice(subjects)\n",
    "        schedule.append((subject, time, day))\n",
    "    return schedule\n",
    "\n",
    "def create_pop(subj,tim,day_):\n",
    "    population_ = []\n",
    "    #let\n",
    "    population_size = 7\n",
    "    for _ in range(population_size):\n",
    "        schedule = generate_random_schedule(subj, tim, day_)\n",
    "        population_.append(schedule)\n",
    "    return population_\n",
    "\n",
    "generated_population = create_pop(subjects,time_,week)\n",
    "for i in generated_population:\n",
    "    print(i)"
   ]
  },
  {
   "cell_type": "code",
   "execution_count": 12,
   "metadata": {},
   "outputs": [
    {
     "data": {
      "text/plain": [
       "0.8499999999999999"
      ]
     },
     "execution_count": 12,
     "metadata": {},
     "output_type": "execute_result"
    }
   ],
   "source": [
    "def fitness_function(popu):\n",
    "  fitness = 1.0\n",
    "  mov_count = 0\n",
    "  bookread_count = 0\n",
    "  #watch movie at late times\n",
    "  #read at early times \n",
    "  for chromo in popu:\n",
    "    for gene in chromo:\n",
    "      if (gene[0] == 'movie') and (gene[1] == \"19:00\"):\n",
    "        fitness-=0.15\n",
    "      if gene[0]=='movie':\n",
    "        mov_count+=1\n",
    "        if mov_count>2:\n",
    "          fitness-=0.15\n",
    "      if gene[0]=='math' and gene[1] == \"5:00\":\n",
    "        fitness+=0.15\n",
    "      if gene[0]=='read a book':\n",
    "        bookread_count+=1\n",
    "  if bookread_count==5:\n",
    "    fitness+=0.15\n",
    "  return fitness\n",
    "fitness_function(generated_population)"
   ]
  },
  {
   "cell_type": "code",
   "execution_count": 13,
   "metadata": {},
   "outputs": [
    {
     "name": "stdout",
     "output_type": "stream",
     "text": [
      "0.8499999999999999\n"
     ]
    }
   ],
   "source": [
    "def perform_crossover(parent1, parent2):\n",
    "    # performing single-point crossover\n",
    "    #random crossover point\n",
    "    crossover_point = random.randint(1, len(parent1) - 1)\n",
    "    \n",
    "    offspring1 = parent1[:crossover_point] + parent2[crossover_point:]\n",
    "    offspring2 = parent2[:crossover_point] + parent1[crossover_point:]\n",
    "    \n",
    "    return offspring1, offspring2\n",
    "\n",
    "# mutation rate is the frequency of new mutations in a single gene or organism over time.\n",
    "def perform_mutation(chromosome, mutation_rate):\n",
    "    # Perform mutation on a chromosome by randomly modifying genes\n",
    "    mutated_chromosome = []\n",
    "    \n",
    "    for gene in chromosome:\n",
    "        if random.random() < mutation_rate:\n",
    "            # Perform mutation by randomly selecting a new gene value\n",
    "            mutated_gene = generate_random_schedule(subjects, time_ , week) #generate random gene\n",
    "            print(mutated_gene,\"\\n\\n\\n\")\n",
    "              # Replace with your own function to generate a random gene\n",
    "            mutated_chromosome.append(mutated_gene)\n",
    "            print(mutated_chromosome)\n",
    "        else:\n",
    "            mutated_chromosome.append(gene)\n",
    "        break\n",
    "    return mutated_chromosome\n",
    "\n",
    "while True:\n",
    "    mrate = 0.4\n",
    "    a = random.randint(4,6)\n",
    "    b = random.randint(0,3)\n",
    "\n",
    "    offspring1, offspring2 = perform_crossover(generated_population[a], generated_population[b])\n",
    "    \n",
    "    mutated_offspring1 = perform_mutation(offspring1,mrate)\n",
    "    mutated_offspring2 = perform_mutation(offspring2,mrate)\n",
    "    \n",
    "    if fitness_function(generated_population) > 0.75:\n",
    "        print(fitness_function(generated_population))\n",
    "    break\n",
    "\n",
    "#print(generated_population)"
   ]
  },
  {
   "cell_type": "code",
   "execution_count": null,
   "metadata": {},
   "outputs": [],
   "source": []
  }
 ],
 "metadata": {
  "interpreter": {
   "hash": "a42ccb73e7d9bfdf27e036f1d2b8b681e55fc0743cc5586bc2474d4a60f4b886"
  },
  "kernelspec": {
   "display_name": "Python 3.10.1 64-bit",
   "language": "python",
   "name": "python3"
  },
  "language_info": {
   "codemirror_mode": {
    "name": "ipython",
    "version": 3
   },
   "file_extension": ".py",
   "mimetype": "text/x-python",
   "name": "python",
   "nbconvert_exporter": "python",
   "pygments_lexer": "ipython3",
   "version": "3.10.1"
  },
  "orig_nbformat": 4
 },
 "nbformat": 4,
 "nbformat_minor": 2
}
